{
 "cells": [
  {
   "cell_type": "markdown",
   "metadata": {},
   "source": [
    "<div style=\"padding:30px; color: black; background-color: #FFFFFF\">\n",
    "<center>\n",
    "<img src=\"img/Logo_UB.jpg\"></img>\n",
    "<center>\n",
    "<p>\n",
    "<h1>Advanced Algorithmics</h1>\n",
    "<h2>Practice 2 - Enumerative </h2>\n",
    "</center>\n",
    "</p>\n",
    "</div>"
   ]
  },
  {
   "cell_type": "markdown",
   "metadata": {},
   "source": [
    "<div class=\"alert alert-info\">\n",
    "<center>\n",
    "  <h1>Introducción</h1>\n",
    "</center>"
   ]
  },
  {
   "cell_type": "markdown",
   "metadata": {},
   "source": [
    "En esta práctica implementaremos un algoritmo de ramificación y poda para solucionar el problema de la mochila:\n",
    "\n",
    "(from Wikipedia): En algoritmia, el problema de la mochila, comúnmente abreviado por KP (del inglés Knapsack problem) es un problema de optimización combinatoria, es decir, que busca la mejor solución entre un conjunto finito de posibles soluciones a un problema. Modela una situación análoga al llenar una mochila, incapaz de soportar más de un peso determinado, con todo o parte de un conjunto de objetos, cada uno con un peso y valor específicos. Los objetos colocados en la mochila deben maximizar el valor total sin exceder el peso máximo.\n",
    "\n",
    "Supongamos que tenemos n distintos tipos de ítems, que van del 1 al n. De cada tipo de ítem se tienen q ítems disponibles (que puede ser diferente para cada ítem).\n",
    "\n",
    "Cada tipo de ítem tiene un beneficio asociado v y un peso (o volumen) w. Se asume que el beneficio y el peso no son negativos. \n",
    "\n",
    "Por otro lado se tiene una mochila, donde se pueden introducir los ítems, que soporta un peso máximo (o volumen máximo) W.\n",
    "\n",
    "El problema consiste en meter en la mochila ítems de tal forma que se maximice el valor de los ítems que contiene y siempre que no se supere el peso (o volumen) máximo que puede soportar la misma. La solución al problema vendrá dado por la secuencia de variables x1, x2, ..., xn donde el valor de xi indica cuantas copias se meterán en la mochila del tipo de ítem i."
   ]
  },
  {
   "cell_type": "markdown",
   "metadata": {},
   "source": [
    "<div class=\"alert alert-info\">\n",
    "<center>\n",
    "  <h1>Contenido</h1>\n",
    "  </center><p>\n",
    "\n"
   ]
  },
  {
   "cell_type": "markdown",
   "metadata": {},
   "source": [
    "\n",
    "<div class=\"alert alert-success\" style=\"width:90%; margin:0 auto;\">\n",
    "  <h2><p>Ramificación y poda: Problema de la mochila</p></h2>\n",
    "  \n",
    "  <div class=\"row\">\n",
    "  <div>\n",
    "  <p style=\"text-align: justify; padding-right: 30px\">\n",
    "  Implementa mediante ramificación y poda una solución al problema de la mochila con tal de encontrar el listado ordenado de items a introducir en la mochila de tal forma que el beneficio (en términos de valor) acumulado en la mochila sea máximo.\n",
    "  </p>\n",
    "  </div>\n"
   ]
  },
  {
   "cell_type": "markdown",
   "metadata": {},
   "source": [
    "<div class=\"alert alert-danger\" style=\"width:80%; margin:0 auto; padding\">\n",
    "<center><p><h3> Código </h3></p> </center> \n",
    "\n",
    "<p>\n",
    "<h3>INPUT</h3>\n",
    "<ul>\n",
    "<li>V1: vector del peso asociado a cada ítem (cada posición corresponde a cada uno de los n ítems).</li>\n",
    "<li>V2: vector del valor asociado a cada ítem (cada posición corresponde a cada uno de los n ítems).</li>\n",
    "<li>V3: vector con la cantidad de elementos disponibles de cada tipo de ítem (cada posición corresponde a cada uno de los n ítems).</li>\n",
    "<li>X: peso máximo que soporta la mochila a ser rellenada por ítems con el objetivo de maximizar el valor que contiene.</li>\n",
    "</ul>\n",
    "<br>\n",
    "<h3>OUTPUT</h3>\n",
    "Listado de elementos que se introducen en la mochila (en el orden en el que se introducen, índice del ítem, la longitud del vector es la cantidad de elementos que se introducen en la mochila) y el valor total de la mochila.\n",
    "</p>\n",
    "\n",
    "</div>"
   ]
  },
  {
   "cell_type": "code",
   "execution_count": 2,
   "metadata": {
    "collapsed": false
   },
   "outputs": [
    {
     "data": {
      "text/plain": [
       "([0, 2, 2, 2], 22)"
      ]
     },
     "execution_count": 2,
     "metadata": {},
     "output_type": "execute_result"
    }
   ],
   "source": [
    "import copy\n",
    "def RP(V1,V2,V3,X):\n",
    "    d=dict([(i,{'weight':V1[i],'value':V2[i],'amount':V3[i]}) for i in range(len(V1))])\n",
    "    items=[]\n",
    "    valor=0\n",
    "    peso=0\n",
    "    expanded=[]\n",
    "    temp=[(items,valor,peso,d)]\n",
    "    \n",
    "    #First, we have to find a minimal value\n",
    "    while temp:\n",
    "        items,valor,peso,d=temp.pop()\n",
    "        #To avoid permutations, we sort our list in order to have all permutations as one\n",
    "        items.sort()\n",
    "        \n",
    "        #If weight is already greater than what the knapsack can handle, we have an initial solution\n",
    "        if peso>=X:\n",
    "            valor_max=valor\n",
    "            break\n",
    "        else:\n",
    "            #Having a list of lists doesn't work if we want to check if a list is in it\n",
    "            #So we convert it into a string\n",
    "            s_items=list_to_string(items)\n",
    "            if s_items not in expanded:\n",
    "                expanded.append(s_items)\n",
    "                \n",
    "                #Get the elements we can pick (those that are left) and sort them by its value\n",
    "                case=([(i,d[i]['value']) for i in d if d[i]['amount']!=0])\n",
    "                case.sort()\n",
    "                \n",
    "                #For every item, we check if the weight is already greater than X and\n",
    "                #if it is, we stop\n",
    "                #if not, we add it to our list\n",
    "                for i,v in case:\n",
    "                    if peso+d[i]['weight']<=X:\n",
    "                        #To avoid modifying the original list for the items that are yet to come\n",
    "                        #we copy the dictionary and then modify its values\n",
    "                        temp_d=copy.deepcopy(d)\n",
    "                        temp_d[i]['amount']-=1\n",
    "                        temp.append((items+[i],valor+v,peso+d[i]['weight'],temp_d))\n",
    "                    else:\n",
    "                        valor_max=valor\n",
    "                        break\n",
    "                        \n",
    "    #From here, we would have to use our max_valor to bound those nodes that can't give us a better solution\n",
    "    #But I haven't been able to find a bound condition, so it returns the solution found in the DFS\n",
    "    return items,valor_max\n",
    "\n",
    "def list_to_string(l):\n",
    "    s=''\n",
    "    for i in l:\n",
    "        s+=str(i)\n",
    "    return s\n",
    "\n",
    "def bound(tree):\n",
    "    pass\n",
    "\n",
    "RP([1,2,3],[4,5,6],[11,2,7],10)"
   ]
  },
  {
   "cell_type": "markdown",
   "metadata": {},
   "source": [
    "<div class=\"alert alert-danger\" style=\"width:80%; margin:0 auto; padding\">\n",
    "<center><p><h3> Comentarios </h3></p> </center> \n",
    "\n",
    "</div>"
   ]
  },
  {
   "cell_type": "markdown",
   "metadata": {},
   "source": [
    "### En esta sección debéis responder a las preguntas siguientes:\n",
    "#### 1. Implementar un juego de test y justificar los resultados\n",
    "#### 2. Análisis de complejidad de vuestra implementación\n",
    "La complejidad del algoritmo la dividiremos en 2 partes.\n",
    "\n",
    "Por un lado, tenemos la complejidad del DFS inicial, el cual nos ayuda a encontrar una cota minima inicial. Como bien sabemos, la complejidad del DFS es O(n), como ya se explicó en entregas anteriores.\n",
    "\n",
    "Por otro lado, tenemos el apartado de poda, el cual debera seguir el DFS donde lo dejamos anteriormente, pero podando aquellos nodos que no puedan dar una solución valida, por lo cual, la complejidad debera ser O(n), dado que usamos el mismo algoritmo, pese a que comprovemos a cada iteración el nodo que queremos expandir.\n",
    "\n",
    "Dado que el ejercicio trata de maximizar el valor, no existe (o no he conseguido) encontrar un criterio de poda que me permita hacerlo de forma simple, ya que, a diferencia de un problema de minimizacion, en el cual podamos los nodos que nos dan un valor mayor o igual a nuestra cota superior, no podemos podar nodos con un valor inferior a nuestra cota, ya que posteriormente, esta puede aumentar en iteraciones posteriores.\n",
    "\n",
    "Una opción podria ser podar aquellos nodos que sobrepasen el peso maximo X, pero dado que no es una condicion de poda, sino una condicion del mismo problema. Pese a todo, esa condicion ya ha sido implementada en el codigo."
   ]
  },
  {
   "cell_type": "markdown",
   "metadata": {},
   "source": [
    "<div class=\"alert alert-info\">\n",
    "<center>\n",
    "  <h1>Entrega</h1>\n",
    "</center>\n",
    "<p>\n",
    "La entrega de esta práctica tiene como fecha límite el **domingo, 25 de diciembre de 2016 a las 23:55**. En el campus virtual deberéis subir este fichero con las funciones implementadas y las secciones de comentarios debidamente rellenadas.\n",
    "</p>\n",
    "\n",
    "<p>\n",
    "Este fichero es la parte 2/2 de la segunda entrega, correspondiente a algoritmos enumerativos: ramificación y poda.\n",
    "</p>\n",
    "\n",
    "<p>\n",
    "La entrega tiene que consistir en un solo fichero **.ipynb** con el nombre: AA\\_*Apellido1Apellido2*_*Nombre*_en1.ipyn\n",
    "</p>"
   ]
  }
 ],
 "metadata": {
  "anaconda-cloud": {},
  "kernelspec": {
   "display_name": "Python [Root]",
   "language": "python",
   "name": "Python [Root]"
  },
  "language_info": {
   "codemirror_mode": {
    "name": "ipython",
    "version": 2
   },
   "file_extension": ".py",
   "mimetype": "text/x-python",
   "name": "python",
   "nbconvert_exporter": "python",
   "pygments_lexer": "ipython2",
   "version": "2.7.12"
  }
 },
 "nbformat": 4,
 "nbformat_minor": 0
}

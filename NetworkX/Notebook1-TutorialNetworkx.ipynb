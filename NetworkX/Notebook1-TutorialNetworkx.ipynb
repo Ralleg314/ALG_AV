{
 "cells": [
  {
   "cell_type": "markdown",
   "metadata": {},
   "source": [
    "<div style=\"padding:30px; color: white; background-color: #0071CD\">\n",
    "<center>\n",
    "<img src=\"img/logoUB.jpeg\"></img>\n",
    "<center>\n",
    "<p>\n",
    "<h1>Algorísmica Avançada</h1>\n",
    "<h2>Introducció A Networkx </h2>\n",
    "</center>\n",
    "</p>\n",
    "</div>"
   ]
  },
  {
   "cell_type": "markdown",
   "metadata": {},
   "source": [
    "<div>Recorda que per fer servir Networkx l'has d'instal.lar prèviament al teu ordinador. I des d'Anaconda, si vols veure els gràfics primer has de cridar %matplotlib inline</div>\n",
    "\n",
    "<div class=\"alert alert-info\"><strong>Llegeix les instruccions d'instal.lació de Networkx a http://networkx.readthedocs.io/en/networkx-1.11/install.html</strong> </div>"
   ]
  },
  {
   "cell_type": "markdown",
   "metadata": {},
   "source": [
    "## 1 Manipulació bàsica de grafs\n",
    "\n",
    "En aquesta pràctica s'introdueixen les eines bàsiques de manipulació de grafs. Amb networkx els grafs bàsics són no-dirigits.\n",
    "\n",
    "Podeu consultar :\n",
    "+ http://networkx.lanl.gov/tutorial (manual de Networkx)\n",
    "+ http://networkx.lanl.gov/reference (referència de comandes)\n",
    "+ http://networkx.lanl.gov/reference/classes.html (tipus de grafs)\n",
    "\n",
    "per a més informació"
   ]
  },
  {
   "cell_type": "code",
   "execution_count": 2,
   "metadata": {
    "collapsed": false
   },
   "outputs": [],
   "source": [
    "#Creació d'un graf buit\n",
    "%matplotlib inline\n",
    "from pylab import *\n",
    "import networkx as nx\n",
    "\n",
    "G=nx.Graph()\n"
   ]
  },
  {
   "cell_type": "code",
   "execution_count": 3,
   "metadata": {
    "collapsed": false
   },
   "outputs": [],
   "source": [
    "# Afegim vèrtexs i arestes\n",
    "G.add_node(5)\n",
    "G.add_node(6)\n",
    "G.add_edge(5,6)\n",
    "pos=nx.circular_layout(G) \n",
    "   # amb aquest atribut farem que els nodes es distribueixin en un cercle"
   ]
  },
  {
   "cell_type": "code",
   "execution_count": 4,
   "metadata": {
    "collapsed": false
   },
   "outputs": [
    {
     "data": {
      "image/png": "[encoded data removed]",
      "text/plain": [
       "<matplotlib.figure.Figure at 0xafc2160>"
      ]
     },
     "metadata": {},
     "output_type": "display_data"
    }
   ],
   "source": [
    "#el mostrem a pantalla\n",
    "plt.axis('off') #no volem que dibuixi els eixos\n",
    "nx.draw(G,pos) #dibuixem nodes i arestes\n",
    "labels=   nx.draw_networkx_labels(G,pos) #dibuixem etiquetes"
   ]
  },
  {
   "cell_type": "code",
   "execution_count": 5,
   "metadata": {
    "collapsed": false
   },
   "outputs": [
    {
     "data": {
      "image/png": "[encoded data removed]",
      "text/plain": [
       "<matplotlib.figure.Figure at 0x3b37080>"
      ]
     },
     "metadata": {},
     "output_type": "display_data"
    }
   ],
   "source": [
    "# Si afegim arestes amb vèrtexs inexistents, els crea\n",
    "G.add_edge(1,5)\n",
    "G.add_edge(1,2)\n",
    "plt.axis('off') \n",
    "pos=nx.circular_layout(G) \n",
    "nx.draw(G,pos) \n",
    "labels=nx.draw_networkx_labels(G,pos) \n"
   ]
  },
  {
   "cell_type": "code",
   "execution_count": 6,
   "metadata": {
    "collapsed": false
   },
   "outputs": [
    {
     "data": {
      "text/plain": [
       "[1, 2, 5, 6]"
      ]
     },
     "execution_count": 6,
     "metadata": {},
     "output_type": "execute_result"
    }
   ],
   "source": [
    "#Podem consultar informació del graf\n",
    "G.nodes()"
   ]
  },
  {
   "cell_type": "code",
   "execution_count": 7,
   "metadata": {
    "collapsed": false
   },
   "outputs": [
    {
     "data": {
      "text/plain": [
       "[(1, 2), (1, 5), (5, 6)]"
      ]
     },
     "execution_count": 7,
     "metadata": {},
     "output_type": "execute_result"
    }
   ],
   "source": [
    "G.edges()"
   ]
  },
  {
   "cell_type": "code",
   "execution_count": 8,
   "metadata": {
    "collapsed": false
   },
   "outputs": [
    {
     "data": {
      "text/plain": [
       "4"
      ]
     },
     "execution_count": 8,
     "metadata": {},
     "output_type": "execute_result"
    }
   ],
   "source": [
    "G.number_of_nodes()"
   ]
  },
  {
   "cell_type": "code",
   "execution_count": 9,
   "metadata": {
    "collapsed": false
   },
   "outputs": [
    {
     "data": {
      "text/plain": [
       "3"
      ]
     },
     "execution_count": 9,
     "metadata": {},
     "output_type": "execute_result"
    }
   ],
   "source": [
    "G.number_of_edges()"
   ]
  },
  {
   "cell_type": "code",
   "execution_count": 10,
   "metadata": {
    "collapsed": false
   },
   "outputs": [
    {
     "data": {
      "text/plain": [
       "[1, 6]"
      ]
     },
     "execution_count": 10,
     "metadata": {},
     "output_type": "execute_result"
    }
   ],
   "source": [
    "G.neighbors(5)"
   ]
  },
  {
   "cell_type": "markdown",
   "metadata": {},
   "source": [
    "# 2 Llegir i escriure grafs des de fitxers\n",
    "\n",
    "Networkx inclou funcions per llegir gràfics des d'un fitxer o escriure'ls, podeu trobar més informació a:\n",
    "http://networkx.readthedocs.io/en/networkx-1.11/reference/readwrite.adjlist.html\n",
    "\n",
    "Amb el Notebooks se us ha entregat un fitxer de text (MyFirstGraf.adjlist) que té un graf senzill escrit com una llista d'adjacència, és a dir a cada línia hi ha el node i la llista dels seus nodes veïns. \n",
    "\n",
    "A la primera secció de codi llegim aquest graf i el mostrem.\n",
    "\n",
    "A la segona secció fem l'operació inversa, agafem el graf que haviem creat prèviament, G, i el guardem com a fitxer, i finalment mostrem el fitxer."
   ]
  },
  {
   "cell_type": "code",
   "execution_count": 11,
   "metadata": {
    "collapsed": false
   },
   "outputs": [
    {
     "ename": "IOError",
     "evalue": "[Errno 2] No such file or directory: 'MyFirstGraf.adjlist'",
     "output_type": "error",
     "traceback": [
      "\u001b[1;31m---------------------------------------------------------------------------\u001b[0m",
      "\u001b[1;31mIOError\u001b[0m                                   Traceback (most recent call last)",
      "\u001b[1;32m<ipython-input-11-eb7eaf092734>\u001b[0m in \u001b[0;36m<module>\u001b[1;34m()\u001b[0m\n\u001b[0;32m      1\u001b[0m \u001b[1;31m# Primer mostrem el contingut del fitxer amb la llista d'adjacència\u001b[0m\u001b[1;33m\u001b[0m\u001b[1;33m\u001b[0m\u001b[0m\n\u001b[1;32m----> 2\u001b[1;33m \u001b[1;32mwith\u001b[0m \u001b[0mfile\u001b[0m\u001b[1;33m(\u001b[0m\u001b[1;34m\"MyFirstGraf.adjlist\"\u001b[0m\u001b[1;33m)\u001b[0m \u001b[1;32mas\u001b[0m \u001b[0mf\u001b[0m\u001b[1;33m:\u001b[0m\u001b[1;33m\u001b[0m\u001b[0m\n\u001b[0m\u001b[0;32m      3\u001b[0m     \u001b[0mtext\u001b[0m\u001b[1;33m=\u001b[0m\u001b[0mf\u001b[0m\u001b[1;33m.\u001b[0m\u001b[0mreadlines\u001b[0m\u001b[1;33m(\u001b[0m\u001b[1;33m)\u001b[0m\u001b[1;33m\u001b[0m\u001b[0m\n\u001b[0;32m      4\u001b[0m \u001b[1;32mfor\u001b[0m \u001b[0mline\u001b[0m \u001b[1;32min\u001b[0m \u001b[0mtext\u001b[0m\u001b[1;33m:\u001b[0m\u001b[1;33m\u001b[0m\u001b[0m\n\u001b[0;32m      5\u001b[0m     \u001b[1;32mprint\u001b[0m \u001b[0mline\u001b[0m\u001b[1;33m\u001b[0m\u001b[0m\n",
      "\u001b[1;31mIOError\u001b[0m: [Errno 2] No such file or directory: 'MyFirstGraf.adjlist'"
     ]
    }
   ],
   "source": [
    "# Primer mostrem el contingut del fitxer amb la llista d'adjacència\n",
    "with file(\"MyFirstGraf.adjlist\") as f:\n",
    "    text=f.readlines()\n",
    "for line in text:\n",
    "    print line    \n",
    "    \n",
    "# Després dibuixem el graf\n",
    "G2=nx.read_adjlist(\"MyFirstGraf.adjlist\")\n",
    "pos2=nx.circular_layout(G2) # amb aquest atribut farem que els nodes es distribueixin en un cercle\n",
    "plt.axis('off') \n",
    "nx.draw(G2,pos2) \n",
    "labels=nx.draw_networkx_labels(G2,pos2) "
   ]
  },
  {
   "cell_type": "code",
   "execution_count": 42,
   "metadata": {
    "collapsed": false
   },
   "outputs": [
    {
     "data": {
      "image/png": "[encoded data removed]",
      "text/plain": [
       "<matplotlib.figure.Figure at 0x15f45128>"
      ]
     },
     "metadata": {},
     "output_type": "display_data"
    }
   ],
   "source": [
    "# Ara primer dibuixem el graf que ja haviem creat anteriorment\n",
    "pos=nx.circular_layout(G) # amb aquest atribut farem que els nodes es distribueixin en un cercle\n",
    "plt.axis('off') \n",
    "nx.draw(G,pos) \n",
    "labels=nx.draw_networkx_labels(G,pos) \n",
    "\n"
   ]
  },
  {
   "cell_type": "code",
   "execution_count": 43,
   "metadata": {
    "collapsed": false
   },
   "outputs": [
    {
     "name": "stdout",
     "output_type": "stream",
     "text": [
      "#C:\\Anaconda\\lib\\site-packages\\ipykernel\\__main__.py -f C:\\Users\\Mireia Ribera\\AppData\\Roaming\\jupyter\\runtime\\kernel-87bdba84-dd05-4370-bf2a-d0a118874467.json\n",
      "\n",
      "# GMT Sat Aug 20 21:16:20 2016\n",
      "\n",
      "# \n",
      "\n",
      "1 2 5\n",
      "\n",
      "2\n",
      "\n",
      "5 6\n",
      "\n",
      "6\n",
      "\n"
     ]
    }
   ],
   "source": [
    "#El guardem en un fitxer com a llista d'adjacència\n",
    "nx.write_adjlist(G,\"test.adjlist\")\n",
    "\n",
    "\n",
    "# I després mostrem el contingut del fitxer amb la llista d'adjacència\n",
    "with file(\"test.adjlist\") as f:\n",
    "    text=f.readlines()\n",
    "for line in text:\n",
    "    print line    "
   ]
  },
  {
   "cell_type": "markdown",
   "metadata": {},
   "source": [
    "# 3 Funcions avançades de la llibreria Networkx\n",
    "\n",
    "La llibreria disposa d'un conjunt de grafs ja definiits, com per exemple el graf de Petersen (http://en.wikipedia.org/wiki/Petersen_graph). I també d'algorismes bàsics com el DFS (Depth First Search) o altres."
   ]
  },
  {
   "cell_type": "code",
   "execution_count": 44,
   "metadata": {
    "collapsed": false
   },
   "outputs": [
    {
     "data": {
      "image/png": "[encoded data removed]",
      "text/plain": [
       "<matplotlib.figure.Figure at 0x15de9c88>"
      ]
     },
     "metadata": {},
     "output_type": "display_data"
    }
   ],
   "source": [
    "GP = nx.petersen_graph()\n",
    "posGP=nx.shell_layout(GP,nlist=[range(5,10), range(5)])\n",
    "nx.draw(GP, posGP)\n",
    "labels=nx.draw_networkx_labels(GP,posGP)\n"
   ]
  },
  {
   "cell_type": "code",
   "execution_count": 45,
   "metadata": {
    "collapsed": false
   },
   "outputs": [
    {
     "data": {
      "text/plain": [
       "[(0, 1),\n",
       " (0, 4),\n",
       " (0, 5),\n",
       " (1, 2),\n",
       " (1, 6),\n",
       " (2, 3),\n",
       " (2, 7),\n",
       " (3, 8),\n",
       " (3, 4),\n",
       " (4, 9),\n",
       " (5, 8),\n",
       " (5, 7),\n",
       " (6, 8),\n",
       " (6, 9),\n",
       " (7, 9)]"
      ]
     },
     "execution_count": 45,
     "metadata": {},
     "output_type": "execute_result"
    }
   ],
   "source": [
    "GP.edges()"
   ]
  },
  {
   "cell_type": "code",
   "execution_count": 46,
   "metadata": {
    "collapsed": false
   },
   "outputs": [
    {
     "data": {
      "text/plain": [
       "15"
      ]
     },
     "execution_count": 46,
     "metadata": {},
     "output_type": "execute_result"
    }
   ],
   "source": [
    "GP.number_of_edges()"
   ]
  },
  {
   "cell_type": "code",
   "execution_count": 47,
   "metadata": {
    "collapsed": false
   },
   "outputs": [
    {
     "data": {
      "text/plain": [
       "[0, 1, 2, 3, 4, 5, 6, 7, 8, 9]"
      ]
     },
     "execution_count": 47,
     "metadata": {},
     "output_type": "execute_result"
    }
   ],
   "source": [
    "GP.nodes()"
   ]
  },
  {
   "cell_type": "code",
   "execution_count": 48,
   "metadata": {
    "collapsed": false
   },
   "outputs": [
    {
     "data": {
      "text/plain": [
       "10"
      ]
     },
     "execution_count": 48,
     "metadata": {},
     "output_type": "execute_result"
    }
   ],
   "source": [
    "GP.number_of_nodes()"
   ]
  },
  {
   "cell_type": "markdown",
   "metadata": {},
   "source": [
    "## Algorisme DFS\n",
    "L'algorisme DFS és el que hi ha a continuació (correspon a la funció explore definida a les\n",
    "transparències del curs d'Algorísmica Avançada). Observeu que es tracta d'un algorisme recursiu que\n",
    "guarda en un graf H és arestes del graf G per les quals va passant.\n",
    "\n",
    "### Pseudocodi\n",
    "\n",
    "    funcio main  \n",
    "        ''' Sigui G = (Vg,Eg) el graf original  \n",
    "        Sigui v el vèrtex inicial d'exploració  \n",
    "        Sigui H = (Vh,Eh) el graf resultant d'aplicar DFS  \n",
    "        Iniciem l'algorisme amb un graf H buit'''  \n",
    "        Eh = {}, Vh = {}  \n",
    "        visitats = {}  \n",
    "        explora(v)  \n",
    "  \n",
    "  \n",
    "    funcio explora(u)  \n",
    "         Vh = Vh U {u}  \n",
    "         visitats = visitats U {u}  \n",
    "         per a cada veí k de u no visitat fer:  \n",
    "             Eh = Eh U {(k,u)}  \n",
    "             explora(k)  "
   ]
  },
  {
   "cell_type": "code",
   "execution_count": 49,
   "metadata": {
    "collapsed": false
   },
   "outputs": [],
   "source": [
    "#Apliquem l'algoritme DFS i guardem el resultat en un nou graf que anomenem DFS\n",
    "DFS=nx.dfs_tree(GP,0)"
   ]
  },
  {
   "cell_type": "code",
   "execution_count": 50,
   "metadata": {
    "collapsed": false
   },
   "outputs": [
    {
     "data": {
      "image/png": "[encoded data removed]",
      "text/plain": [
       "<matplotlib.figure.Figure at 0x1562e0b8>"
      ]
     },
     "metadata": {},
     "output_type": "display_data"
    }
   ],
   "source": [
    "#L'observem gràficament\n",
    "posDFS=nx.shell_layout(DFS,nlist=[range(5,10), range(5)])\n",
    "nx.draw(DFS, posDFS)\n",
    "labels=nx.draw_networkx_labels(DFS, posDFS)"
   ]
  },
  {
   "cell_type": "code",
   "execution_count": 51,
   "metadata": {
    "collapsed": false
   },
   "outputs": [
    {
     "data": {
      "text/plain": [
       "[(0, 1), (1, 2), (2, 3), (3, 8), (5, 7), (7, 9), (8, 5), (9, 4), (9, 6)]"
      ]
     },
     "execution_count": 51,
     "metadata": {},
     "output_type": "execute_result"
    }
   ],
   "source": [
    "#N'observem les característiques\n",
    "DFS.edges()"
   ]
  },
  {
   "cell_type": "code",
   "execution_count": 52,
   "metadata": {
    "collapsed": false
   },
   "outputs": [
    {
     "data": {
      "text/plain": [
       "[0, 1, 2, 3, 4, 5, 6, 7, 8, 9]"
      ]
     },
     "execution_count": 52,
     "metadata": {},
     "output_type": "execute_result"
    }
   ],
   "source": [
    "DFS.nodes()"
   ]
  },
  {
   "cell_type": "markdown",
   "metadata": {},
   "source": [
    "### Observacions \n",
    "\n",
    "Observeu les arestes del graf DFS. No hi són totes, només les del camí mínim. \n",
    "\n",
    "Observeu també la llista de vèrtexs de DFS: és la mateixa que la del graf GP original! Això indica que l'algorisme DFS ha estat capaç d'arribar a tots els vèrtexs del graf. Es diu doncs que aquest graf es connex.\n",
    "\n",
    "Si comencem el graf DFS per un altre vèrtex l'estructura serà diferent però el graf resultant tindrà el mateix nombre de nodes i arestes que l'exemple anterior."
   ]
  },
  {
   "cell_type": "code",
   "execution_count": 53,
   "metadata": {
    "collapsed": false
   },
   "outputs": [],
   "source": [
    "DFS2=nx.dfs_tree(GP,5)"
   ]
  },
  {
   "cell_type": "code",
   "execution_count": 54,
   "metadata": {
    "collapsed": false
   },
   "outputs": [
    {
     "data": {
      "image/png": "[encoded data removed]",
      "text/plain": [
       "<matplotlib.figure.Figure at 0x160c4a20>"
      ]
     },
     "metadata": {},
     "output_type": "display_data"
    }
   ],
   "source": [
    "posDFS2=nx.shell_layout(DFS2,nlist=[range(5,10), range(5)])\n",
    "nx.draw(DFS2, posDFS2)\n",
    "labels=nx.draw_networkx_labels(DFS2, posDFS2)"
   ]
  },
  {
   "cell_type": "code",
   "execution_count": 55,
   "metadata": {
    "collapsed": false
   },
   "outputs": [
    {
     "data": {
      "text/plain": [
       "[(0, 1), (1, 2), (2, 3), (3, 8), (5, 0), (6, 9), (8, 6), (9, 4), (9, 7)]"
      ]
     },
     "execution_count": 55,
     "metadata": {},
     "output_type": "execute_result"
    }
   ],
   "source": [
    "DFS2.edges()  #són unes altres"
   ]
  },
  {
   "cell_type": "code",
   "execution_count": 56,
   "metadata": {
    "collapsed": false
   },
   "outputs": [
    {
     "data": {
      "text/plain": [
       "[0, 1, 2, 3, 4, 5, 6, 7, 8, 9]"
      ]
     },
     "execution_count": 56,
     "metadata": {},
     "output_type": "execute_result"
    }
   ],
   "source": [
    "DFS.nodes()"
   ]
  },
  {
   "cell_type": "markdown",
   "metadata": {},
   "source": [
    "### Anàlisi connectivitat\n",
    "\n",
    "En particular, l'algorisme DFS es pot utilitzar per comprovar si un graf és connex.\n",
    "\n",
    "Provarem aquesta funció amb una variació del graf de Petersen, al que afegirem dos vertexs."
   ]
  },
  {
   "cell_type": "code",
   "execution_count": 57,
   "metadata": {
    "collapsed": false
   },
   "outputs": [
    {
     "data": {
      "image/png": "[encoded data removed]",
      "text/plain": [
       "<matplotlib.figure.Figure at 0x1552f0b8>"
      ]
     },
     "metadata": {},
     "output_type": "display_data"
    }
   ],
   "source": [
    "GP.add_edge(10,11)\n",
    "posGP=nx.shell_layout(GP,nlist=[range(5,10), range(5),range(10,12)])\n",
    "nx.draw(GP, posGP)\n",
    "labels=nx.draw_networkx_labels(GP, posGP)"
   ]
  },
  {
   "cell_type": "code",
   "execution_count": 58,
   "metadata": {
    "collapsed": false
   },
   "outputs": [
    {
     "data": {
      "text/plain": [
       "[0, 1, 2, 3, 4, 5, 6, 7, 8, 9, 10, 11]"
      ]
     },
     "execution_count": 58,
     "metadata": {},
     "output_type": "execute_result"
    }
   ],
   "source": [
    "GP.nodes()"
   ]
  },
  {
   "cell_type": "code",
   "execution_count": 59,
   "metadata": {
    "collapsed": false
   },
   "outputs": [
    {
     "data": {
      "image/png": "[encoded data removed]",
      "text/plain": [
       "<matplotlib.figure.Figure at 0x15a8c0f0>"
      ]
     },
     "metadata": {},
     "output_type": "display_data"
    }
   ],
   "source": [
    "# Apliquem de nou el DFS\n",
    "DFS3=nx.dfs_tree(GP,0)\n",
    "#L'observem gràficament\n",
    "posDFS3=nx.shell_layout(DFS3,nlist=[range(10,12),range(5,10), range(5)])\n",
    "nx.draw(DFS3, posDFS3)\n",
    "labels=nx.draw_networkx_labels(DFS3, posDFS3)"
   ]
  },
  {
   "cell_type": "code",
   "execution_count": 60,
   "metadata": {
    "collapsed": false
   },
   "outputs": [
    {
     "data": {
      "text/plain": [
       "[0, 1, 2, 3, 4, 5, 6, 7, 8, 9]"
      ]
     },
     "execution_count": 60,
     "metadata": {},
     "output_type": "execute_result"
    }
   ],
   "source": [
    "#Els nous nodes no apareixen al DFS!\n",
    "DFS3.nodes()"
   ]
  },
  {
   "cell_type": "markdown",
   "metadata": {},
   "source": [
    "### Múltiples arbres\n",
    "Com que els vèrtexs 10 i 11 no estan connectats amb la resta, el DFS no hi arriba. Podem crear un altre DF a partir del vèrtex 10."
   ]
  },
  {
   "cell_type": "code",
   "execution_count": 61,
   "metadata": {
    "collapsed": false
   },
   "outputs": [
    {
     "data": {
      "image/png": "[encoded data removed]",
      "text/plain": [
       "<matplotlib.figure.Figure at 0x16fdb320>"
      ]
     },
     "metadata": {},
     "output_type": "display_data"
    }
   ],
   "source": [
    "# Apliquem de nou el DFS\n",
    "DFS4=nx.dfs_tree(GP,10)\n",
    "#L'observem gràficament\n",
    "posDFS4=nx.shell_layout(DFS4,nlist=[range(10,12),range(5,10), range(5)])\n",
    "nx.draw(DFS4, posDFS4)\n",
    "labels=nx.draw_networkx_labels(DFS4, posDFS4)"
   ]
  },
  {
   "cell_type": "markdown",
   "metadata": {},
   "source": [
    "### Experimentant\n",
    "\n",
    "Prova tu mateix de connectar el vèrtex 10 amb un altre vèrtex del graf de Petersen\n",
    "original i aplica de nou l'algorisme de DFS fins a trobar tots els camins mínims del nou graf."
   ]
  },
  {
   "cell_type": "markdown",
   "metadata": {},
   "source": [
    "## Recorreguts en un graf\n",
    "\n",
    "A l'hora de programar, la llibreria NetworkX permet accedir molt fàcilment als vèrtexs i arestes del\n",
    "graf gràcies a l'estructura interna amb que guarda els grafs. Per accedir als vèrtexs d'un graf podeu usar una estructura for."
   ]
  },
  {
   "cell_type": "code",
   "execution_count": 62,
   "metadata": {
    "collapsed": false
   },
   "outputs": [
    {
     "name": "stdout",
     "output_type": "stream",
     "text": [
      "0\n",
      "1\n",
      "2\n",
      "3\n",
      "4\n",
      "5\n",
      "6\n",
      "7\n",
      "8\n",
      "9\n",
      "10\n",
      "11\n"
     ]
    }
   ],
   "source": [
    "for n in GP:\n",
    "    print n"
   ]
  },
  {
   "cell_type": "markdown",
   "metadata": {},
   "source": [
    "I també podem accedir als veïns fàcilment"
   ]
  },
  {
   "cell_type": "code",
   "execution_count": 63,
   "metadata": {
    "collapsed": false
   },
   "outputs": [
    {
     "name": "stdout",
     "output_type": "stream",
     "text": [
      "El node 1 te com a veí a 2\n",
      "El node 1 te com a veí a 5\n",
      "El node 2 te com a veí a 1\n",
      "El node 5 te com a veí a 1\n",
      "El node 5 te com a veí a 6\n",
      "El node 6 te com a veí a 5\n"
     ]
    }
   ],
   "source": [
    "for n in G:\n",
    "    for nbr in G[n]:\n",
    "        print \"El node\",n,\"te com a veí a\",nbr"
   ]
  },
  {
   "cell_type": "markdown",
   "metadata": {},
   "source": [
    "# 4 Atributs de vèrtexs i arestes\n",
    "\n",
    "Networkx permet assignar valors (més d'un) als vèrtexs i les arestes i després consultar-los."
   ]
  },
  {
   "cell_type": "code",
   "execution_count": 64,
   "metadata": {
    "collapsed": false
   },
   "outputs": [],
   "source": [
    "G = nx.Graph()\n",
    "G.add_edge(1,2)\n",
    "G.node[1]['nom']='Barcelona'\n",
    "G.node[2]['nom']='Girona'\n",
    "G.edge[1][2]['distancia(km)'] = 150"
   ]
  },
  {
   "cell_type": "code",
   "execution_count": 65,
   "metadata": {
    "collapsed": false
   },
   "outputs": [
    {
     "data": {
      "text/plain": [
       "'Barcelona'"
      ]
     },
     "execution_count": 65,
     "metadata": {},
     "output_type": "execute_result"
    }
   ],
   "source": [
    "G.node[1]['nom']"
   ]
  },
  {
   "cell_type": "code",
   "execution_count": 66,
   "metadata": {
    "collapsed": false
   },
   "outputs": [
    {
     "data": {
      "text/plain": [
       "150"
      ]
     },
     "execution_count": 66,
     "metadata": {},
     "output_type": "execute_result"
    }
   ],
   "source": [
    "G.edge[1][2]['distancia(km)']"
   ]
  },
  {
   "cell_type": "code",
   "execution_count": 67,
   "metadata": {
    "collapsed": false
   },
   "outputs": [
    {
     "data": {
      "text/plain": [
       "[(1, {'nom': 'Barcelona'}), (2, {'nom': 'Girona'})]"
      ]
     },
     "execution_count": 67,
     "metadata": {},
     "output_type": "execute_result"
    }
   ],
   "source": [
    "G.nodes(data=True) #Amb data=True estem dient que ens mostri els atributs"
   ]
  },
  {
   "cell_type": "code",
   "execution_count": 68,
   "metadata": {
    "collapsed": false
   },
   "outputs": [
    {
     "data": {
      "text/plain": [
       "[(1, 2, {'distancia(km)': 150})]"
      ]
     },
     "execution_count": 68,
     "metadata": {},
     "output_type": "execute_result"
    }
   ],
   "source": [
    "G.edges(data=True) #Amb data=True estem dient que ens mostri els atributs"
   ]
  },
  {
   "cell_type": "code",
   "execution_count": 80,
   "metadata": {
    "collapsed": false
   },
   "outputs": [
    {
     "data": {
      "image/png": "[encoded data removed]",
      "text/plain": [
       "<matplotlib.figure.Figure at 0x15f58710>"
      ]
     },
     "metadata": {},
     "output_type": "display_data"
    }
   ],
   "source": [
    "pos=nx.circular_layout(G)\n",
    "nx.draw(G, pos)\n",
    "labels=nx.draw_networkx_labels(G,pos)\n",
    "labels=nx.draw_networkx_edge_labels(G, pos)"
   ]
  }
 ],
 "metadata": {
  "kernelspec": {
   "display_name": "Python 2",
   "language": "python",
   "name": "python2"
  },
  "language_info": {
   "codemirror_mode": {
    "name": "ipython",
    "version": 2
   },
   "file_extension": ".py",
   "mimetype": "text/x-python",
   "name": "python",
   "nbconvert_exporter": "python",
   "pygments_lexer": "ipython2",
   "version": "2.7.9"
  }
 },
 "nbformat": 4,
 "nbformat_minor": 0
}

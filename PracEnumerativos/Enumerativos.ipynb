{
 "cells": [
  {
   "cell_type": "markdown",
   "metadata": {},
   "source": [
    "<div style=\"padding:30px; color: black; background-color: #FFFFFF\">\n",
    "<center>\n",
    "<img src=\"img/Logo_UB.jpg\"></img>\n",
    "<center>\n",
    "<p>\n",
    "<h1>Advanced Algorithmics</h1>\n",
    "<h2>Practice 2 - Enumerative </h2>\n",
    "</center>\n",
    "</p>\n",
    "</div>"
   ]
  },
  {
   "cell_type": "markdown",
   "metadata": {},
   "source": [
    "<div class=\"alert alert-info\">\n",
    "<center>\n",
    "  <h1>Introducción</h1>\n",
    "</center>"
   ]
  },
  {
   "cell_type": "markdown",
   "metadata": {},
   "source": [
    "En esta práctica implementaremos un algoritmo de ramificación y poda para solucionar el problema de la mochila:\n",
    "\n",
    "(from Wikipedia): En algoritmia, el problema de la mochila, comúnmente abreviado por KP (del inglés Knapsack problem) es un problema de optimización combinatoria, es decir, que busca la mejor solución entre un conjunto finito de posibles soluciones a un problema. Modela una situación análoga al llenar una mochila, incapaz de soportar más de un peso determinado, con todo o parte de un conjunto de objetos, cada uno con un peso y valor específicos. Los objetos colocados en la mochila deben maximizar el valor total sin exceder el peso máximo.\n",
    "\n",
    "Supongamos que tenemos n distintos tipos de ítems, que van del 1 al n. De cada tipo de ítem se tienen q ítems disponibles (que puede ser diferente para cada ítem).\n",
    "\n",
    "Cada tipo de ítem tiene un beneficio asociado v y un peso (o volumen) w. Se asume que el beneficio y el peso no son negativos. \n",
    "\n",
    "Por otro lado se tiene una mochila, donde se pueden introducir los ítems, que soporta un peso máximo (o volumen máximo) W.\n",
    "\n",
    "El problema consiste en meter en la mochila ítems de tal forma que se maximice el valor de los ítems que contiene y siempre que no se supere el peso (o volumen) máximo que puede soportar la misma. La solución al problema vendrá dado por la secuencia de variables x1, x2, ..., xn donde el valor de xi indica cuantas copias se meterán en la mochila del tipo de ítem i."
   ]
  },
  {
   "cell_type": "markdown",
   "metadata": {},
   "source": [
    "<div class=\"alert alert-info\">\n",
    "<center>\n",
    "  <h1>Contenido</h1>\n",
    "  </center><p>\n",
    "\n"
   ]
  },
  {
   "cell_type": "markdown",
   "metadata": {},
   "source": [
    "\n",
    "<div class=\"alert alert-success\" style=\"width:90%; margin:0 auto;\">\n",
    "  <h2><p>Ramificación y poda: Problema de la mochila</p></h2>\n",
    "  \n",
    "  <div class=\"row\">\n",
    "  <div>\n",
    "  <p style=\"text-align: justify; padding-right: 30px\">\n",
    "  Implementa mediante ramificación y poda una solución al problema de la mochila con tal de encontrar el listado ordenado de items a introducir en la mochila de tal forma que el beneficio (en términos de valor) acumulado en la mochila sea máximo.\n",
    "  </p>\n",
    "  </div>\n"
   ]
  },
  {
   "cell_type": "markdown",
   "metadata": {},
   "source": [
    "<div class=\"alert alert-danger\" style=\"width:80%; margin:0 auto; padding\">\n",
    "<center><p><h3> Código </h3></p> </center> \n",
    "\n",
    "<p>\n",
    "<h3>INPUT</h3>\n",
    "<ul>\n",
    "<li>V1: vector del peso asociado a cada ítem (cada posición corresponde a cada uno de los n ítems).</li>\n",
    "<li>V2: vector del valor asociado a cada ítem (cada posición corresponde a cada uno de los n ítems).</li>\n",
    "<li>V3: vector con la cantidad de elementos disponibles de cada tipo de ítem (cada posición corresponde a cada uno de los n ítems).</li>\n",
    "<li>X: peso máximo que soporta la mochila a ser rellenada por ítems con el objetivo de maximizar el valor que contiene.</li>\n",
    "</ul>\n",
    "<br>\n",
    "<h3>OUTPUT</h3>\n",
    "Listado de elementos que se introducen en la mochila (en el orden en el que se introducen, índice del ítem, la longitud del vector es la cantidad de elementos que se introducen en la mochila) y el valor total de la mochila.\n",
    "</p>\n",
    "\n",
    "</div>"
   ]
  },
  {
   "cell_type": "code",
   "execution_count": 87,
   "metadata": {
    "collapsed": false
   },
   "outputs": [
    {
     "name": "stdout",
     "output_type": "stream",
     "text": [
      "1 2\n",
      "1 4\n",
      "2 7\n",
      "2 10\n",
      "2 13\n",
      "[1, 1, 2, 2] 10 22\n"
     ]
    },
    {
     "data": {
      "text/plain": [
       "([1, 1, 2, 2], 0)"
      ]
     },
     "execution_count": 87,
     "metadata": {},
     "output_type": "execute_result"
    }
   ],
   "source": [
    "import operator\n",
    "import random\n",
    "import numpy\n",
    "def RP(V1,V2,V3,X):\n",
    "    items=[]\n",
    "    w=0\n",
    "    valor=0\n",
    "    d=dict([(i,{'weight':V1[i],'value':V2[i],'amount':V3[i]}) for i in range(len(V1))])\n",
    "    while w<X:\n",
    "        m=sorted(d.items(), key=lambda (k,v):v['weight'])\n",
    "        i=0\n",
    "        while d[m[i][0]]['amount']==0:\n",
    "            i+=1\n",
    "        items.append(m[i][0])\n",
    "        w+=d[items[-1]]['weight']\n",
    "        d[items[-1]]['amount']-=1\n",
    "        print items[-1],w\n",
    "    items.pop()\n",
    "    print items, w-d[items[-1]]['weight'], sum([d[i]['value'] for i in items])\n",
    "    return (items, valor)\n",
    "\n",
    "RP([4,2,3],[4,5,6],[3,2,7],11)"
   ]
  },
  {
   "cell_type": "markdown",
   "metadata": {},
   "source": [
    "<div class=\"alert alert-danger\" style=\"width:80%; margin:0 auto; padding\">\n",
    "<center><p><h3> Comentarios </h3></p> </center> \n",
    "\n",
    "</div>"
   ]
  },
  {
   "cell_type": "markdown",
   "metadata": {},
   "source": [
    "### En esta sección debéis responder a las preguntas siguientes:\n",
    "#### 1. Implementar un juego de test y justificar los resultados\n",
    "#### 2. Análisis de complejidad de vuestra implementación"
   ]
  },
  {
   "cell_type": "markdown",
   "metadata": {},
   "source": [
    "<div class=\"alert alert-info\">\n",
    "<center>\n",
    "  <h1>Entrega</h1>\n",
    "</center>\n",
    "<p>\n",
    "La entrega de esta práctica tiene como fecha límite el **domingo, 25 de diciembre de 2016 a las 23:55**. En el campus virtual deberéis subir este fichero con las funciones implementadas y las secciones de comentarios debidamente rellenadas.\n",
    "</p>\n",
    "\n",
    "<p>\n",
    "Este fichero es la parte 2/2 de la segunda entrega, correspondiente a algoritmos enumerativos: ramificación y poda.\n",
    "</p>\n",
    "\n",
    "<p>\n",
    "La entrega tiene que consistir en un solo fichero **.ipynb** con el nombre: AA\\_*Apellido1Apellido2*_*Nombre*_en1.ipyn\n",
    "</p>"
   ]
  }
 ],
 "metadata": {
  "kernelspec": {
   "display_name": "Python [Root]",
   "language": "python",
   "name": "Python [Root]"
  },
  "language_info": {
   "codemirror_mode": {
    "name": "ipython",
    "version": 2
   },
   "file_extension": ".py",
   "mimetype": "text/x-python",
   "name": "python",
   "nbconvert_exporter": "python",
   "pygments_lexer": "ipython2",
   "version": "2.7.12"
  }
 },
 "nbformat": 4,
 "nbformat_minor": 0
}

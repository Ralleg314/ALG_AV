{
 "cells": [
  {
   "cell_type": "markdown",
   "metadata": {},
   "source": [
    "<div style=\"padding:30px; color: white; background-color: #0071CD\">\n",
    "<center>\n",
    "<img src=\"img/logoub.jpeg\"></img>\n",
    "<center>\n",
    "<p>\n",
    "<h1>Algorísmica Avançada</h1>\n",
    "<h2>Práctica 2 - Programación dinámica </h2>\n",
    "</center>\n",
    "</p>\n",
    "</div>"
   ]
  },
  {
   "cell_type": "markdown",
   "metadata": {},
   "source": [
    "<div class=\"alert alert-info\">\n",
    "<center>\n",
    "  <h1>Introducción</h1>\n",
    "</center>"
   ]
  },
  {
   "cell_type": "markdown",
   "metadata": {},
   "source": [
    "En esta práctica de una única sesión implementaremos un algoritmo de programación dinámica, Dynamic Time Warping (DTW), para encontrar el matching \"óptimo\" de un vector de reales de entrada dentro de un vector de posible longitud \"infinita\" minimizando un criterio de distancia.\n",
    "\n",
    "Como se ha comentado en clase de teoría, los algoritmos de programación dinámica definen una función de coste que se aplica sobre un conjunto de subproblemas (más fáciles de resolver que la solución global), de tal forma que la solución en una nueva iteración está compuesta de soluciones óptimas parciales, asegurando la optimalidad de la solución final. "
   ]
  },
  {
   "cell_type": "markdown",
   "metadata": {},
   "source": [
    "<div class=\"alert alert-info\">\n",
    "<center>\n",
    "  <h1>Contenido</h1>\n",
    "  </center><p>\n",
    "\n"
   ]
  },
  {
   "cell_type": "markdown",
   "metadata": {},
   "source": [
    "\n",
    "<div class=\"alert alert-success\" style=\"width:90%; margin:0 auto;\">\n",
    "  <h2><p>DTW</p></h2>\n",
    "  \n",
    "  <div class=\"row\">\n",
    "  <div>\n",
    "  <p style=\"text-align: justify; padding-right: 30px\">\n",
    "  Implementa el algoritmo DTW presentado en clase de teoría. Para ello, las entradas serán 2 vectores, el patron a buscar, y el vector donde encontrar el patrón. Usaremos valores reales en cada posición del vector, que hipotéticamente representarán valores de un sensor inercial situado en la muñeca de un usuario que realiza gestos con el objetivo de interaccionar con una interfaz. El código debe implementar DTW de tal forma que la salida sea, el coste de la asociación más factible, mostrando la posición de inicio-fin dentro del segundo vector.\n",
    "  </p>\n",
    "  </div>\n"
   ]
  },
  {
   "cell_type": "markdown",
   "metadata": {},
   "source": [
    "<div class=\"alert alert-danger\" style=\"width:80%; margin:0 auto; padding\">\n",
    "<center><p><h3> Código </h3></p> </center> \n",
    "\n",
    "<p>\n",
    "<h3>INPUT</h3>\n",
    "<ul>\n",
    "<li>V1: vector patrón.</li>\n",
    "<li>V2: vector sobre el cual encontrar el inicio-fin más factible de V1.</li>\n",
    "</ul>\n",
    "<br>\n",
    "<h3>OUTPUT</h3>\n",
    "El coste de la asociación más factible, mostrando la posición de inicio-fin dentro del segundo vector.\n",
    "</p>\n",
    "\n",
    "</div>"
   ]
  },
  {
   "cell_type": "code",
   "execution_count": 156,
   "metadata": {
    "collapsed": false
   },
   "outputs": [
    {
     "data": {
      "text/plain": [
       "(3, 0, 2)"
      ]
     },
     "execution_count": 156,
     "metadata": {},
     "output_type": "execute_result"
    }
   ],
   "source": [
    "def DTW(V1,V2):\n",
    "    #The shortest word will always be V1\n",
    "    if len(V1)>len(V2):V1,V2=V2,V1\n",
    "    #We make a matrix 1 row and 1 column greater than what we need to avoid problems\n",
    "    l1,l2=len(V1)+1,len(V2)+1\n",
    "    #Our matrix will store the current distance in the first position and its origin in the second, in where:\n",
    "    #    0=diagonal\n",
    "    #    1=up\n",
    "    #    2=left\n",
    "    m=[[(0,0) for i in range(l2)]for i in range(l1)]\n",
    "    \n",
    "    #First column will set to infinite, because even if the algorithm doesn't care about time\n",
    "    #It cares about the pattern\n",
    "    for i in range(1,l1):\n",
    "        m[i][0]=(float('inf'),0)\n",
    "\n",
    "    #Fill the matrix\n",
    "    for i in range(1,l1):\n",
    "        for j in range(1,l2):\n",
    "            ins=1*(V2[i-1]!=V2[i-2])\n",
    "            sub=1*(V1[i-1]!=V2[j-1])\n",
    "            mm=[m[i-1][j-1][0]+sub,m[i-1][j][0]+1,m[i][j-1][0]+ins]\n",
    "            minm=min(mm)\n",
    "            m[i][j]=(minm,mm.index(minm))\n",
    "            \n",
    "    '''for i in range(1,l1):\n",
    "        print m[i][1:]'''\n",
    "\n",
    "    last=min(m[-1][1:], key=lambda x:x[0])\n",
    "    coste=last[0]\n",
    "    fin=m[-1][1:].index(last)\n",
    "    \n",
    "    i=l1-1\n",
    "    inicio=fin+1\n",
    "    while i!=0:\n",
    "        if m[i][inicio][1]==0:\n",
    "            i-=1\n",
    "            inicio-=1\n",
    "        elif m[i][inicio][1]==1:\n",
    "            i-=1\n",
    "        else:\n",
    "            inicio-=1\n",
    "    return (coste, inicio, fin)\n",
    "\n",
    "DTW('AyyMD','ayy lmao')"
   ]
  },
  {
   "cell_type": "markdown",
   "metadata": {},
   "source": [
    "<div class=\"alert alert-danger\" style=\"width:80%; margin:0 auto; padding\">\n",
    "<center><p><h3> Comentarios </h3></p> </center> \n",
    "\n",
    "</div>"
   ]
  },
  {
   "cell_type": "markdown",
   "metadata": {},
   "source": [
    "### En esta sección debéis responder a las preguntas siguientes:\n",
    "#### 1. Implementar un juego de test y justificar los resultados\n",
    "#### 2. Análisis de complejidad de vuestra implementación"
   ]
  },
  {
   "cell_type": "markdown",
   "metadata": {},
   "source": [
    "<div class=\"alert alert-info\">\n",
    "<center>\n",
    "  <h1>Entrega</h1>\n",
    "</center>\n",
    "<p>\n",
    "La entrega de esta práctica tiene como fecha límite el **domingo, 25 de diciembre de 2016 a las 23:55**. En el campus virtual deberéis subir este fichero con las funciones implementadas y las secciones de comentarios debidamente rellenadas.\n",
    "</p>\n",
    "\n",
    "<p>\n",
    "Este fichero es la parte 1/2 de la segunda entrega, correspondiente a algoritmos de programación dinámica.\n",
    "</p>\n",
    "\n",
    "<p>\n",
    "La entrega tiene que consistir en un solo fichero **.ipynb** con el nombre: AA\\_*Apellido1Apellido2*_*Nombre*_dp1.ipyn\n",
    "</p>"
   ]
  }
 ],
 "metadata": {
  "kernelspec": {
   "display_name": "Python [Root]",
   "language": "python",
   "name": "Python [Root]"
  },
  "language_info": {
   "codemirror_mode": {
    "name": "ipython",
    "version": 2
   },
   "file_extension": ".py",
   "mimetype": "text/x-python",
   "name": "python",
   "nbconvert_exporter": "python",
   "pygments_lexer": "ipython2",
   "version": "2.7.12"
  }
 },
 "nbformat": 4,
 "nbformat_minor": 0
}

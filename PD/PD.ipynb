{
 "cells": [
  {
   "cell_type": "markdown",
   "metadata": {},
   "source": [
    "<div style=\"padding:30px; color: white; background-color: #0071CD\">\n",
    "<center>\n",
    "<img src=\"img/logoub.jpeg\"></img>\n",
    "<center>\n",
    "<p>\n",
    "<h1>Algorísmica Avançada</h1>\n",
    "<h2>Práctica 2 - Programación dinámica </h2>\n",
    "</center>\n",
    "</p>\n",
    "</div>"
   ]
  },
  {
   "cell_type": "markdown",
   "metadata": {},
   "source": [
    "<div class=\"alert alert-info\">\n",
    "<center>\n",
    "  <h1>Introducción</h1>\n",
    "</center>"
   ]
  },
  {
   "cell_type": "markdown",
   "metadata": {},
   "source": [
    "En esta práctica de una única sesión implementaremos un algoritmo de programación dinámica, Dynamic Time Warping (DTW), para encontrar el matching \"óptimo\" de un vector de reales de entrada dentro de un vector de posible longitud \"infinita\" minimizando un criterio de distancia.\n",
    "\n",
    "Como se ha comentado en clase de teoría, los algoritmos de programación dinámica definen una función de coste que se aplica sobre un conjunto de subproblemas (más fáciles de resolver que la solución global), de tal forma que la solución en una nueva iteración está compuesta de soluciones óptimas parciales, asegurando la optimalidad de la solución final. "
   ]
  },
  {
   "cell_type": "markdown",
   "metadata": {},
   "source": [
    "<div class=\"alert alert-info\">\n",
    "<center>\n",
    "  <h1>Contenido</h1>\n",
    "  </center><p>\n",
    "\n"
   ]
  },
  {
   "cell_type": "markdown",
   "metadata": {},
   "source": [
    "\n",
    "<div class=\"alert alert-success\" style=\"width:90%; margin:0 auto;\">\n",
    "  <h2><p>DTW</p></h2>\n",
    "  \n",
    "  <div class=\"row\">\n",
    "  <div>\n",
    "  <p style=\"text-align: justify; padding-right: 30px\">\n",
    "  Implementa el algoritmo DTW presentado en clase de teoría. Para ello, las entradas serán 2 vectores, el patron a buscar, y el vector donde encontrar el patrón. Usaremos valores reales en cada posición del vector, que hipotéticamente representarán valores de un sensor inercial situado en la muñeca de un usuario que realiza gestos con el objetivo de interaccionar con una interfaz. El código debe implementar DTW de tal forma que la salida sea, el coste de la asociación más factible, mostrando la posición de inicio-fin dentro del segundo vector.\n",
    "  </p>\n",
    "  </div>\n"
   ]
  },
  {
   "cell_type": "markdown",
   "metadata": {},
   "source": [
    "<div class=\"alert alert-danger\" style=\"width:80%; margin:0 auto; padding\">\n",
    "<center><p><h3> Código </h3></p> </center> \n",
    "\n",
    "<p>\n",
    "<h3>INPUT</h3>\n",
    "<ul>\n",
    "<li>V1: vector patrón.</li>\n",
    "<li>V2: vector sobre el cual encontrar el inicio-fin más factible de V1.</li>\n",
    "</ul>\n",
    "<br>\n",
    "<h3>OUTPUT</h3>\n",
    "El coste de la asociación más factible, mostrando la posición de inicio-fin dentro del segundo vector.\n",
    "</p>\n",
    "\n",
    "</div>"
   ]
  },
  {
   "cell_type": "code",
   "execution_count": 12,
   "metadata": {
    "collapsed": false
   },
   "outputs": [
    {
     "name": "stdout",
     "output_type": "stream",
     "text": [
      "[(0, 0), (0, 0), (0, 0), (0, 0), (0, 0)]\n",
      "[(inf, 0), (0, 0), (1, 0), (1, 0), (1, 0)]\n",
      "[(inf, 0), (1, 1), (0, 0), (1, 2), (2, 0)]\n",
      "[(inf, 0), (2, 1), (1, 1), (1, 0), (2, 0)]\n",
      "[(inf, 0), (3, 1), (2, 1), (2, 0), (1, 0)]\n"
     ]
    },
    {
     "data": {
      "text/plain": [
       "(1, 0, 3)"
      ]
     },
     "execution_count": 12,
     "metadata": {},
     "output_type": "execute_result"
    }
   ],
   "source": [
    "def DTW(V1,V2):\n",
    "    #The shortest word will always be V1\n",
    "    if len(V1)>len(V2):V1,V2=V2,V1\n",
    "    #We make a matrix 1 row and 1 column greater than what we need to avoid problems\n",
    "    l1,l2=len(V1)+1,len(V2)+1\n",
    "    #Our matrix will store the current distance in the first position and its origin in the second, in where:\n",
    "    #    0=diagonal\n",
    "    #    1=up\n",
    "    #    2=left\n",
    "    m=[[(0,0) for i in range(l2)]for i in range(l1)]\n",
    "    \n",
    "    #First column will set to infinite, because even if the algorithm doesn't care about time\n",
    "    #It cares about the pattern\n",
    "    for i in m[1:]:\n",
    "        i[0]=(float('inf'),0)\n",
    "\n",
    "    #Fill the matrix\n",
    "    for i in range(1,l1):\n",
    "        for j in range(1,l2):\n",
    "            ins=m[i][j-1][0]+1*(V2[i-1]!=V2[i-2])\n",
    "            sub=m[i-1][j-1][0]+1*(V1[i-1]!=V2[j-1])\n",
    "            el=m[i-1][j][0]+1\n",
    "            mm=[sub,el,ins]\n",
    "            minm=min(mm)\n",
    "            m[i][j]=(minm,mm.index(minm))\n",
    "    \n",
    "    for i in m:\n",
    "        print i\n",
    "    \n",
    "    last=min(m[-1][1:], key=lambda x:x[0])\n",
    "    coste=last[0]\n",
    "    fin=m[-1][1:].index(last)\n",
    "    \n",
    "    i=l1-1\n",
    "    inicio=fin+1\n",
    "    while i!=0:\n",
    "        if m[i][inicio][1]==0:\n",
    "            i-=1\n",
    "            inicio-=1\n",
    "        elif m[i][inicio][1]==1:\n",
    "            i-=1\n",
    "        else:\n",
    "            inicio-=1\n",
    "\n",
    "    return (coste, inicio, fin)\n",
    "\n",
    "DTW('asdf' , 'ashf')"
   ]
  },
  {
   "cell_type": "code",
   "execution_count": 13,
   "metadata": {
    "collapsed": false
   },
   "outputs": [
    {
     "data": {
      "text/plain": [
       "(0.7999999999999997, 0, 4)"
      ]
     },
     "execution_count": 13,
     "metadata": {},
     "output_type": "execute_result"
    }
   ],
   "source": [
    "def DTW_R(V1,V2):\n",
    "    #The shortest word will always be V1\n",
    "    if len(V1)>len(V2):V1,V2=V2,V1\n",
    "    #We make a matrix 1 row and 1 column greater than what we need to avoid problems\n",
    "    l1,l2=len(V1)+1,len(V2)+1\n",
    "    #Our matrix will store the current distance in the first position and its origin in the second, in where:\n",
    "    #    0=diagonal\n",
    "    #    1=up\n",
    "    #    2=left\n",
    "    m=[[(0,0) for i in range(l2)]for i in range(l1)]\n",
    "    \n",
    "    #First column will set to infinite, because even if the algorithm doesn't care about time\n",
    "    #It cares about the pattern\n",
    "    for i in range(1,l1):\n",
    "        m[i][0]=(float('inf'),0)\n",
    "\n",
    "    #Fill the matrix\n",
    "    for i in range(1,l1):\n",
    "        for j in range(1,l2):\n",
    "            mm=[m[i-1][j-1][0],m[i-1][j][0],m[i][j-1][0]]\n",
    "            minm=min(mm)\n",
    "            m[i][j]=(minm+abs(V1[i-1]-V2[j-1]),mm.index(minm))\n",
    "\n",
    "    last=min(m[-1][1:], key=lambda x:x[0])\n",
    "    coste=last[0]\n",
    "    fin=m[-1][1:].index(last)\n",
    "    \n",
    "    i=l1-1\n",
    "    inicio=fin+1\n",
    "    while i!=0:\n",
    "        if m[i][inicio][1]==0:\n",
    "            i-=1\n",
    "            inicio-=1\n",
    "        elif m[i][inicio][1]==1:\n",
    "            i-=1\n",
    "        else:\n",
    "            inicio-=1\n",
    "\n",
    "    return (coste, inicio, fin)\n",
    "\n",
    "DTW_R([0.1,0.3,1.2,1.7],[0.2,0.4,0.7,1.1,1.6])"
   ]
  },
  {
   "cell_type": "markdown",
   "metadata": {},
   "source": [
    "<div class=\"alert alert-danger\" style=\"width:80%; margin:0 auto; padding\">\n",
    "<center><p><h3> Comentarios </h3></p> </center> \n",
    "\n",
    "</div>"
   ]
  },
  {
   "cell_type": "markdown",
   "metadata": {},
   "source": [
    "### En esta sección debéis responder a las preguntas siguientes:\n",
    "#### 1. Implementar un juego de test y justificar los resultados\n",
    "Para el test, utilizaremos los siguientes tests:\n",
    "##### -'patata' y 'paaaaaaaaaaaaaaatata':\n",
    "Dado que el algoritmo ha de hacer caso omiso al tiempo, la distancia entre estos dos tiene que ser 0, resultado que obtenemos.\n",
    "\n",
    "##### -'lmao' y 'ayy lmao':\n",
    "En este caso, el resultado debe devolver la parte en la qual los dos string son identicos.\n",
    "\n",
    "##### -'asf' y 'asdf':\n",
    "Dado que la diferencia se basa en la falta de 1 letra, la distancia debera ser 1. Nos encontramos, eso si, con diversas posibles soluciones, ya que existen varias combinaciones a distancia 1 que podemos escoger. Tal y como esta hecho el algoritmo, siempre nos devolvera el primero en la lista, es decir, el primer valor minimo que encontramos al recorrer la ultima fila\n",
    "\n",
    "##### -'asdf' y 'ashf':\n",
    "Aqui nos encontramos con un caso similar al anterior, exceptuando que en este, el unico substring valido es todo V2, ya que solo debemos cambiar 1 caracter.\n",
    "\n",
    "#### 2. Análisis de complejidad de vuestra implementación\n",
    "Para calcular la complejidad, la dividiremos en 2 partes: la del calculo de la matriz y la del backtracking.\n",
    "##### -Matriz:\n",
    "Para el calculo de la matriz, debemos realizar 2 bucles en torno al numero de elementos de V1 y de V2, suponiendo que sean n y m respectivamente, el bucle se repetira nm veces.\n",
    "\n",
    "En cuanto al calculo en si, todos los elementos deben mirar el elemento superior, izquierdo y en la diagonal, por lo cual, el calculo tendra complejidad lineal O(3)=O(1), suponiendo que las operaciones aritmeticas tienen coste O(1).\n",
    "\n",
    "Del mismo modo, el elegir cual de los elementos anteriores es mayor tendrá igual complejidad lineal, dado que trabajaremos siempre con una lista de 3 elementos.\n",
    "\n",
    "Por tanto, el calculo de la matriz tendrá complejidad O(nm)*(O(1)+O(1)), es decir, O(nm).\n",
    "\n",
    "##### -Backtracking\n",
    "Para el backtracking, utilizaremos los valores que hemos guardado en la matriz para recorrerla hacia atras.\n",
    "\n",
    "Para encontrar el valor minimo, deberemos recorrer la ultima fila de la matriz, lo cual tendra una complejidad O(m).\n",
    "\n",
    "Dado que detendremos el bucle cuando lleguemos a la linea superior, en el peor de los casos deberemos recorrer la matriz desplazandonos unicamente arriba o izquierda, lo cual nos daria un coste O(n+m).\n",
    "\n",
    "Por tanto, el coste de esta parte sera O(n+m)+O(m)=O(n+2m)=O(n+m).\n",
    "\n",
    "##### -Total\n",
    "Finalmente, tendremos que la complejidad de todo el algoritmo sera O(nm)+O(n+m). Dado que nm>=n+m para n y m enteros, la complejidad sera O(nm)."
   ]
  },
  {
   "cell_type": "markdown",
   "metadata": {},
   "source": [
    "<div class=\"alert alert-info\">\n",
    "<center>\n",
    "  <h1>Entrega</h1>\n",
    "</center>\n",
    "<p>\n",
    "La entrega de esta práctica tiene como fecha límite el **domingo, 25 de diciembre de 2016 a las 23:55**. En el campus virtual deberéis subir este fichero con las funciones implementadas y las secciones de comentarios debidamente rellenadas.\n",
    "</p>\n",
    "\n",
    "<p>\n",
    "Este fichero es la parte 1/2 de la segunda entrega, correspondiente a algoritmos de programación dinámica.\n",
    "</p>\n",
    "\n",
    "<p>\n",
    "La entrega tiene que consistir en un solo fichero **.ipynb** con el nombre: AA\\_*Apellido1Apellido2*_*Nombre*_dp1.ipyn\n",
    "</p>"
   ]
  },
  {
   "cell_type": "code",
   "execution_count": null,
   "metadata": {
    "collapsed": true
   },
   "outputs": [],
   "source": []
  }
 ],
 "metadata": {
  "anaconda-cloud": {},
  "kernelspec": {
   "display_name": "Python [Root]",
   "language": "python",
   "name": "Python [Root]"
  },
  "language_info": {
   "codemirror_mode": {
    "name": "ipython",
    "version": 2
   },
   "file_extension": ".py",
   "mimetype": "text/x-python",
   "name": "python",
   "nbconvert_exporter": "python",
   "pygments_lexer": "ipython2",
   "version": "2.7.12"
  }
 },
 "nbformat": 4,
 "nbformat_minor": 0
}
